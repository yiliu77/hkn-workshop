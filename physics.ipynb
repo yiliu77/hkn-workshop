{
 "cells": [
  {
   "cell_type": "code",
   "execution_count": 4,
   "metadata": {},
   "outputs": [],
   "source": [
    "import pygame"
   ]
  },
  {
   "cell_type": "markdown",
   "metadata": {},
   "source": [
    "# Physics Simulation in Pygame\n",
    "This lab will go through an intro of pygame and go through simulating multiple particles that bounce around in a simulation. The steps are\n",
    "1. Introduce Pygame\n",
    "2. How to draw shapes\n",
    "3. Simulating movement\n",
    "4. Adding boundaries\n",
    "5. Gravity!"
   ]
  },
  {
   "cell_type": "markdown",
   "metadata": {},
   "source": [
    "### Section 1: Introduce Pygame\n",
    "Pygame provides a library for drawing and animating shapes. We can use it to draw our particles and move them around. "
   ]
  },
  {
   "cell_type": "code",
   "execution_count": 6,
   "metadata": {},
   "outputs": [],
   "source": [
    "# define what our background color is \n",
    "# this uses rgb colors. So in this case, red = 255, green = 255, blue = 255. This makes white\n",
    "# the max amount for each is 255 and the minimum is 0\n",
    "background_colour = (255,255,255)\n",
    "# define the size of our screen and how large we want to make our window\n",
    "SCREEN_WIDTH = 1200\n",
    "SCREEN_HEIGHT = 600\n",
    "\n",
    "# create our screen that has that width and height\n",
    "screen = pygame.display.set_mode((SCREEN_WIDTH, SCREEN_HEIGHT))\n",
    "\n",
    "running = True\n",
    "while running:\n",
    "    # update the screen\n",
    "    pygame.display.flip()\n",
    "    \n",
    "    # set background color\n",
    "    screen.fill(background_colour)\n",
    "    \n",
    "    # we want to check if the user closes our window\n",
    "    # closing the window is a pygame event so we can iterate through the events and \n",
    "    # check if any of the events is closing the window\n",
    "    for event in pygame.event.get():\n",
    "        # check if the event is closing the window\n",
    "        if event.type == pygame.QUIT:\n",
    "            running = False\n",
    "            # close the pygame window\n",
    "            pygame.quit()"
   ]
  },
  {
   "cell_type": "markdown",
   "metadata": {},
   "source": [
    "### Section 2: Drawing Particles with Pygame\n",
    "We can draw a circle with pygame.draw.circle. It takes in the screen, the color, the center, and also the radius"
   ]
  },
  {
   "cell_type": "code",
   "execution_count": 8,
   "metadata": {},
   "outputs": [],
   "source": [
    "screen = pygame.display.set_mode((SCREEN_WIDTH, SCREEN_HEIGHT))\n",
    "running = True\n",
    "while running:\n",
    "    # draw a circle with the center at 50, 50 with radius 20 and color blue\n",
    "    pygame.draw.circle(screen, (0, 0, 255), (50, 50), 20)\n",
    "    \n",
    "    # YOUR CODE HERE:\n",
    "    # Try drawing a green circle  at position 300, 200 with radius 100\n",
    "    \n",
    "    # updates the screen\n",
    "    pygame.display.flip()\n",
    "    \n",
    "    # set background color\n",
    "    screen.fill(background_colour)\n",
    "    \n",
    "    for event in pygame.event.get():\n",
    "        # check if user closes the window\n",
    "        if event.type == pygame.QUIT:\n",
    "            running = False\n",
    "            # closes the pygame window\n",
    "            pygame.quit()"
   ]
  },
  {
   "cell_type": "markdown",
   "metadata": {},
   "source": [
    "### Section 3: Simulating Movement\n",
    "Let's define a particle class to represent the balls in our simulation. These particles should know where they start, their speeds, and how to draw themselves, therefore they should take in their starting x and y positions, their radius, and their initial speed in the x and y direction. This is an example of objected oriented programming!"
   ]
  },
  {
   "cell_type": "code",
   "execution_count": 10,
   "metadata": {},
   "outputs": [],
   "source": [
    "class Particle:\n",
    "    def __init__(self, x, y, radius, speed_x=0, speed_y=0):\n",
    "        self.x = x\n",
    "        self.y = y\n",
    "        self.radius = radius\n",
    "        self.speed_x = speed_x\n",
    "        self.speed_y = speed_y\n",
    "        self.color = (0, 0, 255)\n",
    "    def update(self):\n",
    "        # update our particle by moving in the direction of its speed\n",
    "        self.x += self.speed_x\n",
    "        self.y += self.speed_y\n",
    "    def draw(self, screen):\n",
    "        pygame.draw.circle(screen, self.color, (self.x, self.y), self.radius)"
   ]
  },
  {
   "cell_type": "markdown",
   "metadata": {},
   "source": [
    "Now we can create a list of particles that we will update at each iteration and draw it on the screen. "
   ]
  },
  {
   "cell_type": "code",
   "execution_count": 12,
   "metadata": {},
   "outputs": [],
   "source": [
    "# define a clock that is going to define how fast we update our screen\n",
    "# too fast and the balls will fly by\n",
    "clock = pygame.time.Clock()\n",
    "\n",
    "screen = pygame.display.set_mode((SCREEN_WIDTH, SCREEN_HEIGHT))\n",
    "\n",
    "# define a list of particles\n",
    "# YOUR CODE HERE: try adding some of your own particles\n",
    "particles = [Particle(20, 20, 30, 3, 5), Particle(50, 80, 10, 4, 2), Particle(100, 20, 60, 1, 2)]\n",
    "running = True\n",
    "while running:\n",
    "    # define 30 milliseconds between every frame\n",
    "    # this forces \n",
    "    clock.tick(30)\n",
    "    screen.fill(background_colour)\n",
    "\n",
    "    # Go through every particle, update its position due to its speed, also draw it on the screen\n",
    "    for particle in particles:\n",
    "        particle.update()\n",
    "        particle.draw(screen)\n",
    "\n",
    "    # updates the screen\n",
    "    pygame.display.flip()\n",
    "    for event in pygame.event.get():\n",
    "        # check if user closes the window\n",
    "        if event.type == pygame.QUIT:\n",
    "            running = False\n",
    "            # closes the pygame window\n",
    "            pygame.quit()"
   ]
  },
  {
   "cell_type": "markdown",
   "metadata": {},
   "source": [
    "### Section 4: Adding boundaries\n",
    "Oh no where'd the balls go? We've got some cool movement going on now but balls will vanish once they exit the screen. We should try adding walls at the edges of the screen so that the balls will bounce around instead of being able to exit the screen. <br><br>\n",
    "Let's assume the walls are completely immovable and that the balls bounce back with all of their energy.<br>\n",
    "Can you name what kind of collision this is? (If you said elastic, you'd be right! An elastic collision is one in which kinetic energy is conserved. We can see this is happening because the ball is bouncing back at full speed and not losing any of its energy as heat.)"
   ]
  },
  {
   "cell_type": "code",
   "execution_count": 13,
   "metadata": {},
   "outputs": [],
   "source": [
    "class Particle:\n",
    "    def __init__(self, x, y, radius, speed_x=0, speed_y=0):\n",
    "        self.x = x\n",
    "        self.y = y\n",
    "        self.radius = radius\n",
    "        self.speed_x = speed_x\n",
    "        self.speed_y = speed_y\n",
    "        self.color = (0, 0, 255)\n",
    "        \n",
    "    def update(self):\n",
    "        # update our particle by moving in the direction of its speed\n",
    "        self.x += self.speed_x\n",
    "        self.y += self.speed_y\n",
    "        \n",
    "        # check if we hit the left wall \n",
    "        if self.x <= self.radius:\n",
    "            self.speed_x = -self.speed_x\n",
    "            self.x = self.radius\n",
    "        \n",
    "        # check if we hit the top wall \n",
    "        if self.y <= self.radius:\n",
    "            self.speed_y = -self.speed_y\n",
    "            self.y = self.radius\n",
    "        \n",
    "        # check if we hit the right wall \n",
    "        if self.x >= SCREEN_WIDTH - self.radius:\n",
    "            self.speed_x = -self.speed_x\n",
    "            self.x = SCREEN_WIDTH - self.radius\n",
    "        \n",
    "        # check if we hit the bottom wall \n",
    "        if self.y >= SCREEN_HEIGHT - self.radius:\n",
    "            self.speed_y = -self.speed_y\n",
    "            self.y = SCREEN_HEIGHT - self.radius\n",
    "            \n",
    "    def draw(self, screen):\n",
    "        pygame.draw.circle(screen, self.color, (self.x, self.y), self.radius)"
   ]
  },
  {
   "cell_type": "code",
   "execution_count": 15,
   "metadata": {},
   "outputs": [],
   "source": [
    "clock = pygame.time.Clock()\n",
    "screen = pygame.display.set_mode((SCREEN_WIDTH, SCREEN_HEIGHT))\n",
    "\n",
    "particles = [Particle(20, 20, 30, 3, 5), Particle(50, 80, 10, 4, 2), Particle(100, 20, 60, 1, 2)]\n",
    "running = True\n",
    "while running:\n",
    "    clock.tick(60)\n",
    "    screen.fill(background_colour)\n",
    "    \n",
    "    # draw particles\n",
    "    for particle in particles:\n",
    "        particle.update()\n",
    "        particle.draw(screen)\n",
    "        \n",
    "    # updates the screen\n",
    "    pygame.display.flip()\n",
    "    for event in pygame.event.get():\n",
    "        # check if user closes the window\n",
    "        if event.type == pygame.QUIT:\n",
    "            running = False\n",
    "            # closes the pygame window\n",
    "            pygame.quit()"
   ]
  },
  {
   "cell_type": "markdown",
   "metadata": {},
   "source": [
    "### Section 5: Gravity!\n",
    "Lastly, we want to give our physics simulation gravity ... on the moon! The gravitational force experienced by an object at Moon's surface is $F_G = mg$ where $g$ is the gravitational constant $1.62 \\frac{m}{s^2}$. <br>\n",
    "Remember from Newton's 2nd Law of Motion that $a = \\frac{F}{m}$ so $a = g$ for all objects near Moon's surface."
   ]
  },
  {
   "cell_type": "code",
   "execution_count": 36,
   "metadata": {},
   "outputs": [],
   "source": [
    "# define our gravity to be on the moon\n",
    "g = 1.62"
   ]
  },
  {
   "cell_type": "code",
   "execution_count": 37,
   "metadata": {},
   "outputs": [],
   "source": [
    "class Particle:\n",
    "    def __init__(self, x, y, radius, speed_x=0, speed_y=0):\n",
    "        self.x = x\n",
    "        self.y = y\n",
    "        self.radius = radius\n",
    "        self.speed_x = speed_x\n",
    "        self.speed_y = speed_y\n",
    "        self.color = (0, 0, 255)\n",
    "    def update(self):\n",
    "        # further update our particle by decreasing our speed _y\n",
    "        # update our particle by moving in the direction of its speed\n",
    "        self.x += self.speed_x\n",
    "        self.y += self.speed_y\n",
    "        if self.x <= self.radius:\n",
    "            self.speed_x = -self.speed_x\n",
    "            self.x = self.radius\n",
    "\n",
    "        if self.y <= self.radius:\n",
    "            self.speed_y = -self.speed_y\n",
    "            self.y = self.radius\n",
    "\n",
    "        if self.x >= SCREEN_WIDTH - self.radius:\n",
    "            self.speed_x = -self.speed_x\n",
    "            self.x = SCREEN_WIDTH - self.radius\n",
    "\n",
    "        if self.y >= SCREEN_HEIGHT - self.radius:\n",
    "            self.speed_y = -self.speed_y\n",
    "            self.y = SCREEN_HEIGHT - self.radius\n",
    "        \n",
    "        # Add acceleration due to gravity to our speed_y (we add instead of subtract because the screen in the y direction is inverted for pygame)\n",
    "        # Down is the positive y direction not negative\n",
    "        self.speed_y += g\n",
    "    def draw(self, screen):\n",
    "        # We put int around self.x and self.y because pygame want it to be an integer\n",
    "        # for drawing purposes\n",
    "        pygame.draw.circle(screen, self.color, (int(self.x), int(self.y)), self.radius)"
   ]
  },
  {
   "cell_type": "code",
   "execution_count": 38,
   "metadata": {},
   "outputs": [],
   "source": [
    "clock = pygame.time.Clock()\n",
    "screen = pygame.display.set_mode((SCREEN_WIDTH, SCREEN_HEIGHT))\n",
    "# set background color\n",
    "particles = [Particle(20, 20, 30, 3, 5), Particle(50, 80, 10, 4, 2), Particle(100, 20, 60, 1, 2)]\n",
    "running = True\n",
    "while running:\n",
    "    clock.tick(60)\n",
    "    screen.fill(background_colour)\n",
    "    for particle in particles:\n",
    "        particle.update()\n",
    "        particle.draw(screen)\n",
    "    # updates the screen\n",
    "    pygame.display.flip()\n",
    "    for event in pygame.event.get():\n",
    "        # check if user closes the window\n",
    "        if event.type == pygame.QUIT:\n",
    "            running = False\n",
    "            # closes the pygame window\n",
    "            pygame.quit()"
   ]
  },
  {
   "cell_type": "code",
   "execution_count": null,
   "metadata": {},
   "outputs": [],
   "source": []
  }
 ],
 "metadata": {
  "kernelspec": {
   "display_name": "Python 3",
   "language": "python",
   "name": "python3"
  },
  "language_info": {
   "codemirror_mode": {
    "name": "ipython",
    "version": 3
   },
   "file_extension": ".py",
   "mimetype": "text/x-python",
   "name": "python",
   "nbconvert_exporter": "python",
   "pygments_lexer": "ipython3",
   "version": "3.6.7"
  }
 },
 "nbformat": 4,
 "nbformat_minor": 2
}
